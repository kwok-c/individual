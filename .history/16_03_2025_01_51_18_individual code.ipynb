{
 "cells": [
  {
   "cell_type": "markdown",
   "id": "ac75aa9b-6977-4349-ab52-f16a324040f4",
   "metadata": {},
   "source": [
    "For this project data was collected from a Minecraft server and consists of two datasets. One is information about the player and the second is data of the sessions played. Below is the number of observation in each data table and the number of variables.\n",
    "| number of observations | number of variables |\n",
    "| :-----:|:----:|\n",
    "|196|7|\n",
    "|1535|5|\n",
    "\n",
    "Here are the variables of both data sets along with some summary statistics, both share the hashed email variable\n",
    "| Name | Type | mean|median|mode|\n",
    "|---|---|---|---|---|\n",
    "| experience | chr|N/A|N/A|Amateur|\n",
    "| subscribe| lgl|N/A|N/A|TRUE|\n",
    "|hashedEmail|chr|N/A|N/A|N/A|\n",
    "|played_hours|dbl|5.84|0.1|0|\n",
    "|name|chr|N/A|N/A|N/A|\n",
    "|gender|chr|N/A|N/A|Male|\n",
    "|Age|dbl|20.5|19|17|\n",
    "|start_time|chr|N/A|N/A|N/A|\n",
    "|end_time|chr|N/A|N/A|N/A|\n",
    "|original_start_time|dbl|1.719201e+12|1.7192e+12|1.72189e+12|\n",
    "|original_end_time|dbl|1.719196e+12|1.71918e+12|1.72189e+12|\n",
    "\n",
    "The variables are explained as folllows: Experience is the self rated background of the participant in Minecraft. The subsribe variable is whether or not the player is subscribe to the newsletter. The hashed email, represents the email address of a user. The played hours is the play time of the participant. Name, gender and age are the values selected by the player. Start and end time is the date and time when the player started and ended their session. Original start time and end time is the Unix time of the beginning and end of the play session.\n",
    "\n",
    "The research question I pose is, can age and play time predict the self rated experience of the player in the player dataset? The data set offers age, play time and the experience of the player so after selecting for age, experience these variables and using a knn classification model can help us predict the experience of the player.\n",
    "\n",
    "Now we will load the data onto the notebook\n"
   ]
  },
  {
   "cell_type": "code",
   "execution_count": null,
   "id": "71148cf5-5d7e-4f87-b0f1-c6fe3724bcea",
   "metadata": {},
   "outputs": [],
   "source": [
    "library(tidyverse)"
   ]
  },
  {
   "cell_type": "code",
   "execution_count": null,
   "id": "54dd8661-2aff-44b2-8d53-fea38a0b8fa7",
   "metadata": {},
   "outputs": [],
   "source": [
    "player<- read_csv(\"https://raw.githubusercontent.com/kwok-c/individual/refs/heads/main/players.csv\")\n",
    "session<- read_csv(\"https://raw.githubusercontent.com/kwok-c/individual/refs/heads/main/sessions.csv\")"
   ]
  },
  {
   "cell_type": "markdown",
   "id": "ca791df6-12c7-4c20-aef9-2f222597380f",
   "metadata": {},
   "source": [
    "combined_data<-left_join(player,session)\n"
   ]
  },
  {
   "cell_type": "code",
   "execution_count": null,
   "id": "a53a8ac1-be74-4824-8982-74c870452fd8",
   "metadata": {},
   "outputs": [],
   "source": [
    "mean_player <- player |>\n",
    "select(played_hours, Age)|>\n",
    "map_dfr(mean, na.rm=T)\n",
    "mean_player"
   ]
  },
  {
   "cell_type": "code",
   "execution_count": null,
   "id": "5d67aa83-5f8b-4e96-9df3-2b2524b7edb0",
   "metadata": {},
   "outputs": [],
   "source": [
    "plot <- ggplot(player,aes(x=Age, y=played_hours))+\n",
    "geom_point(aes(color=experience))+\n",
    "labs(x=\"Age (years)\", y=\"Time played(Hours)\", color=\"Player Experience\")+\n",
    "scale_x_log10() +\n",
    "scale_y_log10()+\n",
    "ggtitle(\"Play time vs. Age\")\n",
    "plot"
   ]
  },
  {
   "cell_type": "markdown",
   "id": "57bd333e-8de2-4fda-b491-9ac6423820ce",
   "metadata": {},
   "source": [
    "One method to answer this question is to use a simple k-nearest neighbor classification model to predict the experience level of the player. This method was chosen because we have a small data set of only 196 players and knn will allow us to classify them appropriately based on age and time played. For this method we assume to predict the class as the most frequent class of the nearest k values. This can be limiting if there is a large number of a certain experience level. For example, if a small number of players have the experience level of Regular it will likely never get predicted. Additionally, choosing the best k value will need to be done to get the best model. To do this, we can create a training model and use cross validation to determine the best k value to use. To train the model we will split the data into 75% training, 25% testing data and perform a 5 fold cross validation on the training data to train the model. The data collected from the training data will determine the best k value which will be tested using the training data to determine the strength of our model.\n"
   ]
  }
 ],
 "metadata": {
  "kernelspec": {
   "display_name": "R",
   "language": "R",
   "name": "ir"
  },
  "language_info": {
   "codemirror_mode": "r",
   "file_extension": ".r",
   "mimetype": "text/x-r-source",
   "name": "R",
   "pygments_lexer": "r",
   "version": "4.3.3"
  }
 },
 "nbformat": 4,
 "nbformat_minor": 5
}
