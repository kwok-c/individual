{
 "cells": [
  {
   "cell_type": "code",
   "execution_count": null,
   "id": "2c22dc24-bd56-4697-a70f-470cca62b38e",
   "metadata": {},
   "outputs": [],
   "source": [
    "library(tidyverse)\n",
    "library(repr)\n",
    "library(tidymodels)\n",
    "\n",
    "player <- read_csv(\"https://raw.githubusercontent.com/kwok-c/individual/refs/heads/main/players.csv\")\n",
    "session <- read_csv(\"https://raw.githubusercontent.com/kwok-c/individual/refs/heads/main/sessions.csv\")"
   ]
  },
  {
   "cell_type": "markdown",
   "id": "32bc209b-58c4-46e9-af66-0143a75a7f2c",
   "metadata": {},
   "source": [
    "Title\n",
    "\n",
    "introduction\n",
    "\n",
    "Can total time played predict whether or not they are subscribed to a newsletter?\n",
    "\n",
    "method and results\n",
    "\n",
    "discussion \n",
    "\n",
    "references"
   ]
  },
  {
   "cell_type": "code",
   "execution_count": null,
   "id": "09615511-169c-4b2c-ab87-d68ea67a9078",
   "metadata": {},
   "outputs": [],
   "source": [
    "data <- player|>\n",
    "select(played_hours, subscribe)|>\n",
    "mutate(subscribe=as_factor(subscribe))\n",
    "\n",
    "data_plot <- ggplot(data, aes(x=played_hours, fill=as_factor(subscribe)))+\n",
    "geom_histogram()+\n",
    "facet_grid(rows=vars(subscribe))\n",
    "data_plot"
   ]
  },
  {
   "cell_type": "code",
   "execution_count": null,
   "id": "97bf82ac-60af-48f5-9843-4de2da90857a",
   "metadata": {},
   "outputs": [],
   "source": [
    "count<-data|>\n",
    "filter(subscribe==\"TRUE\")\n",
    "count"
   ]
  },
  {
   "cell_type": "code",
   "execution_count": null,
   "id": "2b9251bc-3d39-4e34-92d0-29e9761b7b75",
   "metadata": {},
   "outputs": [],
   "source": []
  },
  {
   "cell_type": "code",
   "execution_count": null,
   "id": "d81685cb-bb63-4a0a-a8f6-f9bdc4bb3a9a",
   "metadata": {},
   "outputs": [],
   "source": [
    "set.seed(1)\n",
    "player_split <- initial_split(data, prop = 0.75, strata = subscribe)\n",
    "player_train <- training(player_split)\n",
    "player_test <- testing(player_split)\n",
    "\n",
    "\n",
    "knn_spec <- nearest_neighbor(weight_func = \"rectangular\", neighbors = 5) |>\n",
    "  set_engine(\"kknn\") |>\n",
    "  set_mode(\"classification\")\n",
    "\n",
    "knn_recipe <- recipe(subscribe ~ played_hours, data = player_train)\n",
    "\n",
    "knn_fit <- workflow() |>\n",
    "  add_recipe(knn_recipe) |>\n",
    "  add_model(knn_spec) |>\n",
    "  fit(data = player_train)\n",
    "\n",
    "fruit_test_predictions <- predict(knn_fit , player_test) |>\n",
    "bind_cols(player_test)\n",
    "\n",
    "fruit_prediction_accuracy <- fruit_test_predictions |>\n",
    "metrics(truth = subscribe, estimate = .pred_class) \n",
    "fruit_prediction_accuracy"
   ]
  },
  {
   "cell_type": "code",
   "execution_count": null,
   "id": "558febec-6ecb-4e89-bfcc-1fbeae4305c8",
   "metadata": {},
   "outputs": [],
   "source": []
  },
  {
   "cell_type": "code",
   "execution_count": null,
   "id": "deac93f0-c4b0-4b23-9bc8-7b2d2f384942",
   "metadata": {},
   "outputs": [],
   "source": []
  },
  {
   "cell_type": "code",
   "execution_count": null,
   "id": "39013193-8ef8-4182-8b8c-c4b44345f9ee",
   "metadata": {},
   "outputs": [],
   "source": []
  }
 ],
 "metadata": {
  "kernelspec": {
   "display_name": "R",
   "language": "R",
   "name": "ir"
  },
  "language_info": {
   "codemirror_mode": "r",
   "file_extension": ".r",
   "mimetype": "text/x-r-source",
   "name": "R",
   "pygments_lexer": "r",
   "version": "4.3.3"
  }
 },
 "nbformat": 4,
 "nbformat_minor": 5
}
