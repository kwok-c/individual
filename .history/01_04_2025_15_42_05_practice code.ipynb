{
 "cells": [
  {
   "cell_type": "code",
   "execution_count": null,
   "id": "2c22dc24-bd56-4697-a70f-470cca62b38e",
   "metadata": {},
   "outputs": [],
   "source": [
    "library(tidyverse)\n",
    "player <- read_csv(\"https://raw.githubusercontent.com/kwok-c/individual/refs/heads/main/players.csv\")\n",
    "session <- read_csv(\"https://raw.githubusercontent.com/kwok-c/individual/refs/heads/main/sessions.csv\")"
   ]
  },
  {
   "cell_type": "markdown",
   "id": "32bc209b-58c4-46e9-af66-0143a75a7f2c",
   "metadata": {},
   "source": [
    "Title\n",
    "\n",
    "introduction\n",
    "\n",
    "Can total time played predict whether or not they are subscribed to a newsletter?\n",
    "\n",
    "method and results\n",
    "\n",
    "discussion \n",
    "\n",
    "references"
   ]
  },
  {
   "cell_type": "code",
   "execution_count": null,
   "id": "09615511-169c-4b2c-ab87-d68ea67a9078",
   "metadata": {},
   "outputs": [],
   "source": [
    "data<-player|>\n",
    "select(played_hours, subscribe)|>\n",
    "mutate(subscribe=as_factor(subscribe))\n",
    "\n",
    "data_plot <- ggplot(data, aes(x=played_hours, fill=as_factor(subscribe)))+\n",
    "geom_histogram()+\n",
    "facet_grid(rows=vars(subscribe))\n",
    "data_plot"
   ]
  },
  {
   "cell_type": "code",
   "execution_count": null,
   "id": "d81685cb-bb63-4a0a-a8f6-f9bdc4bb3a9a",
   "metadata": {},
   "outputs": [],
   "source": [
    "knn_spec <- nearest_neighbor(weight_func = \"rectangular\", neighbors = 5) |>\n",
    "  set_engine(\"kknn\") |>\n",
    "  set_mode(\"classification\")\n",
    "knn_fit <- knn_spec |>\n",
    "  fit(Class ~ Perimeter + Concavity, data = cancer_train)"
   ]
  },
  {
   "cell_type": "code",
   "execution_count": null,
   "id": "558febec-6ecb-4e89-bfcc-1fbeae4305c8",
   "metadata": {},
   "outputs": [],
   "source": [
    "data"
   ]
  },
  {
   "cell_type": "code",
   "execution_count": null,
   "id": "deac93f0-c4b0-4b23-9bc8-7b2d2f384942",
   "metadata": {},
   "outputs": [],
   "source": []
  },
  {
   "cell_type": "code",
   "execution_count": null,
   "id": "39013193-8ef8-4182-8b8c-c4b44345f9ee",
   "metadata": {},
   "outputs": [],
   "source": []
  }
 ],
 "metadata": {
  "kernelspec": {
   "display_name": "R",
   "language": "R",
   "name": "ir"
  },
  "language_info": {
   "codemirror_mode": "r",
   "file_extension": ".r",
   "mimetype": "text/x-r-source",
   "name": "R",
   "pygments_lexer": "r",
   "version": "4.3.3"
  }
 },
 "nbformat": 4,
 "nbformat_minor": 5
}
