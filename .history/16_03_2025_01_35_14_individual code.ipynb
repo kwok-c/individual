{
 "cells": [
  {
   "cell_type": "markdown",
   "id": "ac75aa9b-6977-4349-ab52-f16a324040f4",
   "metadata": {},
   "source": [
    "The data was collected from a Minecraft server and consists of two datasets. One is information about the player and the second is data of the sessions played. Below is the number of observation in each data table and the number of variables.\n",
    "| number of observations | number of variables |\n",
    "| :-----:|:----:|\n",
    "|196|7|\n",
    "|1535|5|\n",
    "\n",
    "Here are the variables of both data sets, both share the hashed email variable\n",
    "| Name | Type | mean|median|mode|\n",
    "|---|---|---|---|---|\n",
    "| experience | chr|N/A|N/A|Amateur|\n",
    "| subscribe| lgl||N/A|N|\n",
    "|hashedEmail|chr|\n",
    "|played_hours|dbl|\n",
    "|name|chr|\n",
    "|gender|chr|\n",
    "|Age|dbl|\n",
    "|start_time|chr|\n",
    "|end_time|chr|\n",
    "|original_start_time|dbl|\n",
    "|original_end_time|dbl|\n",
    "\n",
    "Experience is the self rated background of the participant in Minecraft. The subsribe variable is whether or not the player is subscribe to the newsletter. The hashed email, represents the email address of a user. The played hours is the play time of the participant. Name, gender and age are the values selected by the player. Start and end time is the date and time when the player started and ended their session. Original start time and end time is the Unix time of the beginning and end of the play session."
   ]
  },
  {
   "cell_type": "code",
   "execution_count": null,
   "id": "71148cf5-5d7e-4f87-b0f1-c6fe3724bcea",
   "metadata": {},
   "outputs": [],
   "source": [
    "library(tidyverse)"
   ]
  },
  {
   "cell_type": "code",
   "execution_count": null,
   "id": "54dd8661-2aff-44b2-8d53-fea38a0b8fa7",
   "metadata": {},
   "outputs": [],
   "source": [
    "player<- read_csv(\"https://raw.githubusercontent.com/kwok-c/individual/refs/heads/main/players.csv\")\n",
    "session<- read_csv(\"https://raw.githubusercontent.com/kwok-c/individual/refs/heads/main/sessions.csv\")"
   ]
  },
  {
   "cell_type": "code",
   "execution_count": null,
   "id": "83032bfa-4ddf-4c02-a4c2-6c22377c91da",
   "metadata": {},
   "outputs": [],
   "source": [
    "combined_data<-left_join(player,session)\n",
    "table(player$subscribe)"
   ]
  },
  {
   "cell_type": "code",
   "execution_count": null,
   "id": "1907a9e0-90f0-417c-aa8c-74e1b95b57d4",
   "metadata": {},
   "outputs": [],
   "source": [
    "session\n"
   ]
  },
  {
   "cell_type": "code",
   "execution_count": null,
   "id": "a53a8ac1-be74-4824-8982-74c870452fd8",
   "metadata": {},
   "outputs": [],
   "source": [
    "mean_player <- player |>\n",
    "select(played_hours, Age)|>\n",
    "map_dfr(mean, na.rm=T)\n",
    "mean_player"
   ]
  },
  {
   "cell_type": "code",
   "execution_count": null,
   "id": "5d67aa83-5f8b-4e96-9df3-2b2524b7edb0",
   "metadata": {},
   "outputs": [],
   "source": [
    "plot <- ggplot(player,aes(x=Age, y=played_hours))+\n",
    "geom_point(aes(color=experience))+\n",
    "labs(x=\"Age (years)\", y=\"Time played(Hours)\", color=\"Player Experience\")+\n",
    "scale_x_log10() +\n",
    "scale_y_log10()+\n",
    "ggtitle(\"Play time vs. Age\")\n",
    "plot"
   ]
  },
  {
   "cell_type": "code",
   "execution_count": null,
   "id": "ef82e601-0eec-47ba-ad79-a75121c7ad12",
   "metadata": {},
   "outputs": [],
   "source": []
  }
 ],
 "metadata": {
  "kernelspec": {
   "display_name": "R",
   "language": "R",
   "name": "ir"
  },
  "language_info": {
   "codemirror_mode": "r",
   "file_extension": ".r",
   "mimetype": "text/x-r-source",
   "name": "R",
   "pygments_lexer": "r",
   "version": "4.3.3"
  }
 },
 "nbformat": 4,
 "nbformat_minor": 5
}
