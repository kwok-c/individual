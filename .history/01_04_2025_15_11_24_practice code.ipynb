{
 "cells": [
  {
   "cell_type": "code",
   "execution_count": null,
   "id": "2c22dc24-bd56-4697-a70f-470cca62b38e",
   "metadata": {},
   "outputs": [],
   "source": [
    "library(tidyverse)\n",
    "player <- read_csv(\"https://raw.githubusercontent.com/kwok-c/individual/refs/heads/main/players.csv\")\n",
    "session <- read_csv(\"https://raw.githubusercontent.com/kwok-c/individual/refs/heads/main/sessions.csv\")"
   ]
  },
  {
   "cell_type": "markdown",
   "id": "32bc209b-58c4-46e9-af66-0143a75a7f2c",
   "metadata": {},
   "source": [
    "Title\n",
    "\n",
    "introduction\n",
    "\n",
    "Can total time played predict whether or not they are subscribed to a newsletter?\n",
    "\n",
    "method and results\n",
    "\n",
    "discussion \n",
    "\n",
    "references"
   ]
  },
  {
   "cell_type": "code",
   "execution_count": null,
   "id": "09615511-169c-4b2c-ab87-d68ea67a9078",
   "metadata": {},
   "outputs": [],
   "source": [
    "data<-player|>\n",
    "select(played_hours, subscribe)\n",
    "data_plot <- ggplot(data, aes(x=played_hours, color=subscribe))+\n",
    "geom_point()\n",
    "data_plot"
   ]
  },
  {
   "cell_type": "code",
   "execution_count": null,
   "id": "558febec-6ecb-4e89-bfcc-1fbeae4305c8",
   "metadata": {},
   "outputs": [],
   "source": []
  }
 ],
 "metadata": {
  "kernelspec": {
   "display_name": "R",
   "language": "R",
   "name": "ir"
  },
  "language_info": {
   "codemirror_mode": "r",
   "file_extension": ".r",
   "mimetype": "text/x-r-source",
   "name": "R",
   "pygments_lexer": "r",
   "version": "4.3.3"
  }
 },
 "nbformat": 4,
 "nbformat_minor": 5
}
