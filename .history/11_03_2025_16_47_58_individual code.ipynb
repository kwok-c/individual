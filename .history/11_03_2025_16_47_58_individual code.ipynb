{
 "cells": [
  {
   "cell_type": "code",
   "execution_count": null,
   "id": "abfe1b35-a49e-4d6d-81cd-12e552d19ae4",
   "metadata": {},
   "outputs": [],
   "source": [
    "library(tidyverse)"
   ]
  },
  {
   "cell_type": "code",
   "execution_count": null,
   "id": "54dd8661-2aff-44b2-8d53-fea38a0b8fa7",
   "metadata": {},
   "outputs": [],
   "source": [
    "player<- read_csv(\"https://raw.githubusercontent.com/kwok-c/individual/refs/heads/main/players.csv\")\n",
    "session<- read_csv(\"https://raw.githubusercontent.com/kwok-c/individual/refs/heads/main/sessions.csv\")"
   ]
  },
  {
   "cell_type": "code",
   "execution_count": null,
   "id": "be845dcb-3990-48c8-9348-ff8ff014f90c",
   "metadata": {},
   "outputs": [],
   "source": [
    "\n"
   ]
  },
  {
   "cell_type": "code",
   "execution_count": null,
   "id": "83032bfa-4ddf-4c02-a4c2-6c22377c91da",
   "metadata": {},
   "outputs": [],
   "source": [
    "combined_data<-left_join(player,session)"
   ]
  },
  {
   "cell_type": "code",
   "execution_count": null,
   "id": "be159f16-a1e1-40ff-bc1c-14dbb0099418",
   "metadata": {},
   "outputs": [],
   "source": [
    "player"
   ]
  },
  {
   "cell_type": "code",
   "execution_count": null,
   "id": "63da1868-78b5-464c-bc36-5e87536e4873",
   "metadata": {},
   "outputs": [],
   "source": [
    "mean_players <- players |>\n",
    "mutate(mean)"
   ]
  }
 ],
 "metadata": {
  "kernelspec": {
   "display_name": "R",
   "language": "R",
   "name": "ir"
  },
  "language_info": {
   "codemirror_mode": "r",
   "file_extension": ".r",
   "mimetype": "text/x-r-source",
   "name": "R",
   "pygments_lexer": "r",
   "version": "4.3.3"
  }
 },
 "nbformat": 4,
 "nbformat_minor": 5
}
